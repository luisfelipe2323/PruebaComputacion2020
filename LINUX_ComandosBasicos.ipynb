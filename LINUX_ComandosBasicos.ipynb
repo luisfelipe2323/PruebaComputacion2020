{
 "cells": [
  {
   "cell_type": "markdown",
   "metadata": {},
   "source": [
    "# Introducción a las herramientas del cómputo científico.\n",
    "\n",
    "Sergio A. Alcalá Corona <br>\n",
    "Sergio A. Sánchez Chávez\n",
    "\n",
    "---\n",
    "---"
   ]
  },
  {
   "cell_type": "markdown",
   "metadata": {},
   "source": [
    "## SISTEMA OPERATIVO LINUX\n",
    "\n",
    "### Comandos Básicos y Sistema de Archivos.\n",
    "\n",
    "A continuacón expondremos el sistema de acechivos de linux y cómo manejara y manipular archivos \n",
    "Además de probar los comados aqui, hazo en la terminal del Jupyter Lab. \n",
    "\n",
    "---\n"
   ]
  },
  {
   "cell_type": "markdown",
   "metadata": {},
   "source": [
    "#### Sistema de archivos\n",
    "\n",
    "LINUX esta compuesto de un sistema de archivos jerárquico en el cual no existen unidades de disco, en su lugar cada unidad de almacenamiento así como cada dispositivo de hardware, son reconocidos como un archivo o directorio dentro del sistema.\n",
    "\n",
    "Existe sólo una raíz en el sistema, la cual representa la parte más alta de la estructura de directorios y es conocida como root o raíz, es representada por el símbolo de **/** a partir de este punto se desprenden diferentes ramas de directorios como las siguientes:\n",
    "\n",
    "#### Directorios principales:\n",
    "\n",
    "**_/_**   Raíz del sistema <br> <br>\n",
    "\n",
    "_/var_ &nbsp; &nbsp; Variables del sistema <br>\n",
    "_/var/log_ &nbsp; &nbsp; Bitácoras del sistema <br>\n",
    "_/dev_  &nbsp; &nbsp; Dispositivos de hardware <br>\n",
    "_/etc_  &nbsp; &nbsp; Archivos de configuración del sistema <br>\n",
    "_/home_ &nbsp; &nbsp; Directorios de los usuarios <br>\n",
    "_/bin_  &nbsp; &nbsp; &nbsp; &nbsp; &nbsp; Comandos del sistema <br>\n",
    "_/sbin_ &nbsp; &nbsp; &nbsp; &nbsp; &nbsp; Comandos del sistema <br>\n",
    "_/boot_ &nbsp; &nbsp; &nbsp; &nbsp; &nbsp;  Archivos de inicio del sistema <br>\n",
    "_/mnt_  &nbsp; &nbsp; &nbsp; &nbsp; &nbsp; Dispositivos montados <br>\n",
    "\n",
    "---"
   ]
  },
  {
   "cell_type": "markdown",
   "metadata": {},
   "source": [
    "#### Comandos básicos\n",
    "\n",
    "---"
   ]
  },
  {
   "cell_type": "markdown",
   "metadata": {},
   "source": [
    "**_pwd_** (Print Working Directory)\n",
    "\n",
    "Este comando imprime en pantalla el directorio actual de trabajo, es decir, donde nos encontramos posicionados dentro del sistema de directorios indicándonos la ruta absoluta."
   ]
  },
  {
   "cell_type": "code",
   "execution_count": null,
   "metadata": {},
   "outputs": [],
   "source": []
  },
  {
   "cell_type": "markdown",
   "metadata": {},
   "source": [
    "**_ls_** (list)\n",
    "\n",
    "Muestra un listado del contenido del directorio actual de trabajo, este comando tiene varias opciones, entre las más relevantes se encuentran las siguientes:\n",
    "\n",
    "**-l** Muestra un listado con formato largo indicando todas las propiedades de los archivos y directorios del directorio actual de trabajo.\n",
    "\n",
    "**-a** Muestra todo el contenido del directorio, incluyendo los archivos y directorios ocultos.\n",
    "\n",
    "**-r** Muestra el listado en orden inverso alfabético.\n",
    "\n",
    "**-R** Muestra un listado en forma recursiva, es decir lista el contenido de directorios y subdirectorios a partir de la ruta donde le indiquemos.\n",
    "\n",
    "**-t** Muestra un listado tomando como opción la fecha de modificación del archivo o directorio.\n",
    "\n",
    "**-i** Muestra el listado con el inodo donde se encuentra almacenado el archivo en el disco."
   ]
  },
  {
   "cell_type": "code",
   "execution_count": null,
   "metadata": {},
   "outputs": [],
   "source": []
  },
  {
   "cell_type": "code",
   "execution_count": null,
   "metadata": {},
   "outputs": [],
   "source": []
  },
  {
   "cell_type": "markdown",
   "metadata": {},
   "source": [
    "**_touch_**\n",
    "\n",
    "Este comando nos permite crear archivos vacíos, de tamaño 0 bytes.\n"
   ]
  },
  {
   "cell_type": "code",
   "execution_count": 1,
   "metadata": {},
   "outputs": [],
   "source": [
    "touch prueba"
   ]
  },
  {
   "cell_type": "markdown",
   "metadata": {},
   "source": [
    "Este comando es útil cuando nos interesa generar archivos que tienen una función especial como las bitácoras."
   ]
  },
  {
   "cell_type": "code",
   "execution_count": null,
   "metadata": {},
   "outputs": [],
   "source": []
  },
  {
   "cell_type": "code",
   "execution_count": null,
   "metadata": {},
   "outputs": [],
   "source": []
  }
 ],
 "metadata": {
  "kernelspec": {
   "display_name": "Bash",
   "language": "bash",
   "name": "bash"
  },
  "language_info": {
   "codemirror_mode": "shell",
   "file_extension": ".sh",
   "mimetype": "text/x-sh",
   "name": "bash"
  }
 },
 "nbformat": 4,
 "nbformat_minor": 2
}
